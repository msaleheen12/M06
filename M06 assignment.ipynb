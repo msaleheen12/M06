{
 "cells": [
  {
   "cell_type": "code",
   "execution_count": 1,
   "id": "fcd39364-eacc-4630-bd1d-3b9a2079ac0e",
   "metadata": {},
   "outputs": [],
   "source": [
    "#13.1\n",
    "from datetime import date\n",
    "current_date = date.today()\n",
    "date_string = current_date.strftime(\"%Y-%m-%d\")\n",
    "with open('today.txt', 'w') as file:\n",
    "    file.write(date_string)\n"
   ]
  },
  {
   "cell_type": "code",
   "execution_count": 2,
   "id": "15456548-579b-4f4b-807d-ec93829abdba",
   "metadata": {},
   "outputs": [],
   "source": [
    "#13.2\n",
    "with open('today.txt', 'r') as file:\n",
    "    today_string = file.read()"
   ]
  },
  {
   "cell_type": "code",
   "execution_count": 3,
   "id": "ad226be9-81c5-4366-b1b1-4480332de457",
   "metadata": {},
   "outputs": [],
   "source": [
    "#13.3\n",
    "parsed_date = date.fromisoformat(today_string)"
   ]
  },
  {
   "cell_type": "code",
   "execution_count": null,
   "id": "1b51a66b-bb14-4ce9-9149-e168b5c31899",
   "metadata": {},
   "outputs": [],
   "source": [
    "#15.1\n",
    "import multiprocessing\n",
    "import time\n",
    "import random\n",
    "from datetime import datetime\n",
    "\n",
    "def worker():\n",
    "    wait_time = random.uniform(0, 1)\n",
    "    time.sleep(wait_time)\n",
    "    \n",
    "    # Print the current time\n",
    "    print(f\"Current time: {datetime.now()}\")\n",
    "\n",
    "if __name__ == \"__main__\":\n",
    "    # Create a list to hold the processes\n",
    "    processes = []\n",
    "\n",
    "    # Create and start 3 processes\n",
    "    for _ in range(3):\n",
    "        p = multiprocessing.Process(target=worker)\n",
    "        p.start()\n",
    "        processes.append(p)\n",
    "\n",
    "    # Wait for all processes to complete\n",
    "    for p in processes:\n",
    "        p.join()\n",
    "\n",
    "    print(\"All processes have completed.\")\n"
   ]
  }
 ],
 "metadata": {
  "kernelspec": {
   "display_name": "Python 3 (ipykernel)",
   "language": "python",
   "name": "python3"
  },
  "language_info": {
   "codemirror_mode": {
    "name": "ipython",
    "version": 3
   },
   "file_extension": ".py",
   "mimetype": "text/x-python",
   "name": "python",
   "nbconvert_exporter": "python",
   "pygments_lexer": "ipython3",
   "version": "3.11.7"
  }
 },
 "nbformat": 4,
 "nbformat_minor": 5
}
